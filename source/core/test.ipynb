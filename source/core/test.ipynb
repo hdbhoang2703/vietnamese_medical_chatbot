{
 "cells": [
  {
   "cell_type": "code",
   "execution_count": 1,
   "id": "db750c8d",
   "metadata": {},
   "outputs": [
    {
     "name": "stderr",
     "output_type": "stream",
     "text": [
      "d:\\Personal Project\\vietnamese_medical_chatbot\\venv\\lib\\site-packages\\tqdm\\auto.py:21: TqdmWarning: IProgress not found. Please update jupyter and ipywidgets. See https://ipywidgets.readthedocs.io/en/stable/user_install.html\n",
      "  from .autonotebook import tqdm as notebook_tqdm\n"
     ]
    }
   ],
   "source": [
    "from transformers import AutoModelForSeq2SeqLM, AutoTokenizer\n",
    "from peft import PeftModel, PeftConfig\n",
    "import torch\n",
    "\n",
    "class GenerateModel:\n",
    "    def __init__(self, peft_model_path = \"models/vit5-lora-med\", base_model_path=\"VietAI/vit5-large\"):\n",
    "        # Load model base (ViT5-large)\n",
    "        self.base_model = AutoModelForSeq2SeqLM.from_pretrained(base_model_path, \n",
    "                                                                trust_remote_code=True, \n",
    "                                                                use_safetensors=True,\n",
    "                                                                torch_dtype=torch.float16,\n",
    "                                                                low_cpu_mem_usage=True)\n",
    "        \n",
    "        # Load adapter QLoRA \n",
    "        self.config = PeftConfig.from_pretrained(peft_model_path)\n",
    "        self.lora_model = PeftModel.from_pretrained(self.base_model, peft_model_path)\n",
    "        \n",
    "        # Load tokenizer \n",
    "        self.tokenizer = AutoTokenizer.from_pretrained(peft_model_path)\n",
    "        \n",
    "        self.device = torch.device(\"cuda\" if torch.cuda.is_available() else \"cpu\")\n",
    "        self.lora_model.to(self.device)\n",
    "        \n",
    "        print(\"Generate model loaded successfully!\")\n",
    "    \n",
    "    def answer(self, prompt,**generate_kwargs):\n",
    "        if not prompt or not isinstance(prompt, str):\n",
    "            return \"Lỗi: Prompt không hợp lệ.\"\n",
    "\n",
    "        try:\n",
    "            encoded_input = self.tokenizer(\n",
    "                prompt,\n",
    "                return_tensors=\"pt\",\n",
    "                max_length=512,\n",
    "                padding=True,\n",
    "                truncation=True\n",
    "            ).to(self.device)\n",
    "\n",
    "            outputs = self.lora_model.generate(\n",
    "                **encoded_input,\n",
    "                max_length=400,\n",
    "                min_length=20,\n",
    "                do_sample=True,\n",
    "                temperature=0.4,\n",
    "                top_p=0.8,\n",
    "                repetition_penalty=1.2,\n",
    "                no_repeat_ngram_size=3,\n",
    "                length_penalty=1.0,\n",
    "                pad_token_id=self.tokenizer.pad_token_id,\n",
    "                eos_token_id=self.tokenizer.eos_token_id,\n",
    "                **generate_kwargs\n",
    "            )\n",
    "\n",
    "            response = self.tokenizer.decode(outputs[0], skip_special_tokens=True)\n",
    "            return response.strip()\n",
    "\n",
    "        except torch.cuda.OutOfMemoryError:\n",
    "            torch.cuda.empty_cache()\n",
    "            return \"Lỗi: Hết bộ nhớ GPU khi sinh văn bản.\"\n",
    "        except Exception as e:\n",
    "            return f\"Lỗi trong quá trình generate: {str(e)}\"\n",
    "\n",
    "    def generate_from_context(self, context: str, query: str, **kwargs):\n",
    "        prompt = f\"\"\"\n",
    "    Bạn là bác sĩ tư vấn y tế. Dưới đây là thông tin y khoa liên quan:\n",
    "    ---------------------\n",
    "    {context}\n",
    "    ---------------------\n",
    "    Câu hỏi của người dùng: {query}\n",
    "    Vui lòng chọn lọc thông tin cần hiết và trả lời ngắn gọn và chính xác:\n",
    "    \"\"\".strip()\n",
    "\n",
    "        return self.answer(prompt, **kwargs)\n"
   ]
  },
  {
   "cell_type": "code",
   "execution_count": 2,
   "id": "ecdae24e",
   "metadata": {},
   "outputs": [
    {
     "ename": "",
     "evalue": "",
     "output_type": "error",
     "traceback": [
      "\u001b[1;31mThe Kernel crashed while executing code in the current cell or a previous cell. \n",
      "\u001b[1;31mPlease review the code in the cell(s) to identify a possible cause of the failure. \n",
      "\u001b[1;31mClick <a href='https://aka.ms/vscodeJupyterKernelCrash'>here</a> for more info. \n",
      "\u001b[1;31mView Jupyter <a href='command:jupyter.viewOutput'>log</a> for further details."
     ]
    }
   ],
   "source": [
    "query = \"Tôi bị đau đầu và sốt, sổ mũi liên tục. Tôi nên làm gì?\"     \n",
    "generate_model = GenerateModel()\n",
    "reponse = generate_model.answer(query)\n",
    "print(reponse)"
   ]
  }
 ],
 "metadata": {
  "kernelspec": {
   "display_name": "venv",
   "language": "python",
   "name": "python3"
  },
  "language_info": {
   "codemirror_mode": {
    "name": "ipython",
    "version": 3
   },
   "file_extension": ".py",
   "mimetype": "text/x-python",
   "name": "python",
   "nbconvert_exporter": "python",
   "pygments_lexer": "ipython3",
   "version": "3.10.0"
  }
 },
 "nbformat": 4,
 "nbformat_minor": 5
}
